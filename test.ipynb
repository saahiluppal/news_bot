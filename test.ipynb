{
 "cells": [
  {
   "cell_type": "code",
   "execution_count": 1,
   "metadata": {},
   "outputs": [],
   "source": [
    "import json"
   ]
  },
  {
   "cell_type": "code",
   "execution_count": 2,
   "metadata": {},
   "outputs": [
    {
     "name": "stdout",
     "output_type": "stream",
     "text": [
      "1. Yahoo! News -> https://news.yahoo.com/\r\n",
      "2. huffpost -> https://www.huffpost.com/\r\n",
      "3. cnn -> https://edition.cnn.com/\r\n",
      "4. nytimes -> https://www.nytimes.com/\r\n",
      "5. foxnews -> https://www.foxnews.com/\r\n",
      "6. nbcnews -> https://www.nbcnews.com/\r\n",
      "7. bbcnews -> https://www.bbc.com/news\r\n",
      "8. abcnews -> https://abcnews.go.com/\r\n"
     ]
    }
   ],
   "source": [
    "!cat sites_to_crawl"
   ]
  },
  {
   "cell_type": "code",
   "execution_count": 16,
   "metadata": {},
   "outputs": [],
   "source": [
    "to_crawl = {\n",
    "    'yahoo': {\n",
    "        \"highlights\": \"https://news.yahoo.com/\",\n",
    "    },\n",
    "    'huffpost': {\n",
    "        \"highlights\": \"https://www.huffpost.com/\",\n",
    "    },\n",
    "    'cnn': {\n",
    "        \"highlights\": \"https://edition.cnn.com/\",\n",
    "    },\n",
    "    'nytimes': {\n",
    "        \"highlights\": \"https://www.nytimes.com/\",\n",
    "    },\n",
    "    'foxnews': {\n",
    "        \"highlights\": \"https://www.foxnews.com/\",\n",
    "    },\n",
    "    \"nbcnews\": {\n",
    "        \"highlights\": \"https://www.nbcnews.com/\",\n",
    "    },\n",
    "    \"bbcnews\": {\n",
    "        \"highlights\": \"https://www.bbc.com/news\",\n",
    "    },\n",
    "    \"abcnews\": {\n",
    "        \"highlights\": \"https://abcnews.go.com/\"\n",
    "    }\n",
    "}"
   ]
  },
  {
   "cell_type": "code",
   "execution_count": 17,
   "metadata": {},
   "outputs": [],
   "source": [
    "x = json.dumps(to_crawl)"
   ]
  },
  {
   "cell_type": "code",
   "execution_count": 18,
   "metadata": {},
   "outputs": [
    {
     "data": {
      "text/plain": [
       "str"
      ]
     },
     "execution_count": 18,
     "metadata": {},
     "output_type": "execute_result"
    }
   ],
   "source": [
    "type(x)"
   ]
  },
  {
   "cell_type": "code",
   "execution_count": 19,
   "metadata": {},
   "outputs": [],
   "source": [
    "y = json.loads(x)"
   ]
  },
  {
   "cell_type": "code",
   "execution_count": 20,
   "metadata": {},
   "outputs": [
    {
     "data": {
      "text/plain": [
       "dict"
      ]
     },
     "execution_count": 20,
     "metadata": {},
     "output_type": "execute_result"
    }
   ],
   "source": [
    "type(y)"
   ]
  },
  {
   "cell_type": "code",
   "execution_count": 21,
   "metadata": {},
   "outputs": [
    {
     "data": {
      "text/plain": [
       "{'yahoo': {'highlights': 'https://news.yahoo.com/'},\n",
       " 'huffpost': {'highlights': 'https://www.huffpost.com/'},\n",
       " 'cnn': {'highlights': 'https://edition.cnn.com/'},\n",
       " 'nytimes': {'highlights': 'https://www.nytimes.com/'},\n",
       " 'foxnews': {'highlights': 'https://www.foxnews.com/'},\n",
       " 'nbcnews': {'highlights': 'https://www.nbcnews.com/'},\n",
       " 'bbcnews': {'highlights': 'https://www.bbc.com/news'},\n",
       " 'abcnews': {'highlights': 'https://abcnews.go.com/'}}"
      ]
     },
     "execution_count": 21,
     "metadata": {},
     "output_type": "execute_result"
    }
   ],
   "source": [
    "y"
   ]
  },
  {
   "cell_type": "code",
   "execution_count": 22,
   "metadata": {},
   "outputs": [
    {
     "data": {
      "text/plain": [
       "'https://news.yahoo.com/'"
      ]
     },
     "execution_count": 22,
     "metadata": {},
     "output_type": "execute_result"
    }
   ],
   "source": [
    "y.get('yahoo').get('highlights')"
   ]
  },
  {
   "cell_type": "code",
   "execution_count": 27,
   "metadata": {},
   "outputs": [],
   "source": [
    "with open('to_crawl.json','w',encoding='utf-8') as outfile:\n",
    "    json.dump(x, outfile,ensure_ascii=False, indent=4)"
   ]
  },
  {
   "cell_type": "code",
   "execution_count": 28,
   "metadata": {},
   "outputs": [
    {
     "name": "stdout",
     "output_type": "stream",
     "text": [
      "\"{\\\"yahoo\\\": {\\\"highlights\\\": \\\"https://news.yahoo.com/\\\"}, \\\"huffpost\\\": {\\\"highlights\\\": \\\"https://www.huffpost.com/\\\"}, \\\"cnn\\\": {\\\"highlights\\\": \\\"https://edition.cnn.com/\\\"}, \\\"nytimes\\\": {\\\"highlights\\\": \\\"https://www.nytimes.com/\\\"}, \\\"foxnews\\\": {\\\"highlights\\\": \\\"https://www.foxnews.com/\\\"}, \\\"nbcnews\\\": {\\\"highlights\\\": \\\"https://www.nbcnews.com/\\\"}, \\\"bbcnews\\\": {\\\"highlights\\\": \\\"https://www.bbc.com/news\\\"}, \\\"abcnews\\\": {\\\"highlights\\\": \\\"https://abcnews.go.com/\\\"}}\""
     ]
    }
   ],
   "source": [
    "!cat to_crawl.json"
   ]
  },
  {
   "cell_type": "code",
   "execution_count": 45,
   "metadata": {},
   "outputs": [],
   "source": [
    "with open('to_crawl.json') as outfile:\n",
    "    file = json.load(outfile)"
   ]
  },
  {
   "cell_type": "code",
   "execution_count": 46,
   "metadata": {},
   "outputs": [
    {
     "data": {
      "text/plain": [
       "'{\"yahoo\": {\"highlights\": \"https://news.yahoo.com/\"}, \"huffpost\": {\"highlights\": \"https://www.huffpost.com/\"}, \"cnn\": {\"highlights\": \"https://edition.cnn.com/\"}, \"nytimes\": {\"highlights\": \"https://www.nytimes.com/\"}, \"foxnews\": {\"highlights\": \"https://www.foxnews.com/\"}, \"nbcnews\": {\"highlights\": \"https://www.nbcnews.com/\"}, \"bbcnews\": {\"highlights\": \"https://www.bbc.com/news\"}, \"abcnews\": {\"highlights\": \"https://abcnews.go.com/\"}}'"
      ]
     },
     "execution_count": 46,
     "metadata": {},
     "output_type": "execute_result"
    }
   ],
   "source": [
    "file"
   ]
  },
  {
   "cell_type": "code",
   "execution_count": 48,
   "metadata": {},
   "outputs": [],
   "source": [
    "file = json.loads(file)"
   ]
  },
  {
   "cell_type": "code",
   "execution_count": 49,
   "metadata": {},
   "outputs": [
    {
     "data": {
      "text/plain": [
       "dict"
      ]
     },
     "execution_count": 49,
     "metadata": {},
     "output_type": "execute_result"
    }
   ],
   "source": [
    "type(file)"
   ]
  },
  {
   "cell_type": "code",
   "execution_count": 50,
   "metadata": {},
   "outputs": [
    {
     "data": {
      "text/plain": [
       "{'yahoo': {'highlights': 'https://news.yahoo.com/'},\n",
       " 'huffpost': {'highlights': 'https://www.huffpost.com/'},\n",
       " 'cnn': {'highlights': 'https://edition.cnn.com/'},\n",
       " 'nytimes': {'highlights': 'https://www.nytimes.com/'},\n",
       " 'foxnews': {'highlights': 'https://www.foxnews.com/'},\n",
       " 'nbcnews': {'highlights': 'https://www.nbcnews.com/'},\n",
       " 'bbcnews': {'highlights': 'https://www.bbc.com/news'},\n",
       " 'abcnews': {'highlights': 'https://abcnews.go.com/'}}"
      ]
     },
     "execution_count": 50,
     "metadata": {},
     "output_type": "execute_result"
    }
   ],
   "source": [
    "file"
   ]
  },
  {
   "cell_type": "code",
   "execution_count": 51,
   "metadata": {},
   "outputs": [],
   "source": [
    "import selenium"
   ]
  },
  {
   "cell_type": "code",
   "execution_count": 52,
   "metadata": {},
   "outputs": [],
   "source": [
    "from selenium import webdriver"
   ]
  },
  {
   "cell_type": "code",
   "execution_count": 64,
   "metadata": {},
   "outputs": [],
   "source": [
    "import os\n",
    "path = '/home/anonymous/news_bot/scrapers/geckodriver'\n",
    "browser = webdriver.Firefox(executable_path=path)"
   ]
  },
  {
   "cell_type": "code",
   "execution_count": 65,
   "metadata": {},
   "outputs": [],
   "source": [
    "browser.close()"
   ]
  },
  {
   "cell_type": "code",
   "execution_count": 66,
   "metadata": {},
   "outputs": [
    {
     "data": {
      "text/plain": [
       "'/home/anonymous/news_bot/scrapers/geckodriver'"
      ]
     },
     "execution_count": 66,
     "metadata": {},
     "output_type": "execute_result"
    }
   ],
   "source": [
    "path"
   ]
  },
  {
   "cell_type": "code",
   "execution_count": 1,
   "metadata": {},
   "outputs": [],
   "source": [
    " import os"
   ]
  },
  {
   "cell_type": "code",
   "execution_count": 2,
   "metadata": {},
   "outputs": [
    {
     "data": {
      "text/plain": [
       "'/home/anonymous/news_bot'"
      ]
     },
     "execution_count": 2,
     "metadata": {},
     "output_type": "execute_result"
    }
   ],
   "source": [
    "os.getcwd()"
   ]
  },
  {
   "cell_type": "code",
   "execution_count": 3,
   "metadata": {},
   "outputs": [],
   "source": [
    "!python add_crawler.py"
   ]
  },
  {
   "cell_type": "code",
   "execution_count": null,
   "metadata": {},
   "outputs": [],
   "source": []
  }
 ],
 "metadata": {
  "kernelspec": {
   "display_name": "Python 3",
   "language": "python",
   "name": "python3"
  },
  "language_info": {
   "codemirror_mode": {
    "name": "ipython",
    "version": 3
   },
   "file_extension": ".py",
   "mimetype": "text/x-python",
   "name": "python",
   "nbconvert_exporter": "python",
   "pygments_lexer": "ipython3",
   "version": "3.7.5"
  }
 },
 "nbformat": 4,
 "nbformat_minor": 2
}
